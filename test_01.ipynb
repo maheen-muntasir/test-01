{
  "cells": [
    {
      "cell_type": "markdown",
      "metadata": {
        "id": "view-in-github",
        "colab_type": "text"
      },
      "source": [
        "<a href=\"https://colab.research.google.com/github/maheen-muntasir/test-01/blob/main/test_01.ipynb\" target=\"_parent\"><img src=\"https://colab.research.google.com/assets/colab-badge.svg\" alt=\"Open In Colab\"/></a>"
      ]
    },
    {
      "cell_type": "markdown",
      "source": [
        "Sure, here is a Python script that will read JSON from a folder and convert this format into a standard format:"
      ],
      "metadata": {
        "id": "mMx7VuzmWzbq"
      }
    },
    {
      "cell_type": "code",
      "source": [
        "import json\n",
        "\n",
        "def read_json_file(file_name):\n",
        "  with open(file_name, \"r\") as f:\n",
        "    data = json.load(f)\n",
        "  return data\n",
        "\n",
        "def write_json_file(file_name, data):\n",
        "  with open(file_name, \"w\") as f:\n",
        "    json.dump(data, f, indent=4)\n",
        "\n",
        "def convert_json_format(file_name):\n",
        "  data = read_json_file(file_name)\n",
        "\n",
        "  # Check if the \"class\" attribute is present in the JSON data.\n",
        "  if \"class\" in data:\n",
        "    # If the \"class\" attribute is present, then set the \"object\" attribute to the value of the \"class\" attribute.\n",
        "    data[\"object\"] = data[\"class\"]\n",
        "\n",
        "  # Check if the \"license_plate\" attribute is present in the JSON data.\n",
        "  if \"license_plate\" in data:\n",
        "    # If the \"license_plate\" attribute is present, then set the \"object\" attribute to the value of the \"license_plate\" attribute.\n",
        "    data[\"object\"] = data[\"license_plate\"]\n",
        "\n",
        "  # If neither the \"class\" nor the \"license_plate\" attributes are present, then set the \"object\" attribute to the value of the \"filename\" attribute.\n",
        "  if not \"class\" in data and not \"license_plate\" in data:\n",
        "    data[\"object\"] = data[\"filename\"]\n",
        "\n",
        "  # Write the JSON data to a new file.\n",
        "  write_json_file(f\"formatted_{file_name}\", data)\n",
        "\n",
        "if __name__ == \"__main__\":\n",
        "  # Get the name of the JSON file to read.\n",
        "  file_name = input(\"Enter the name of the JSON file to read: \")\n",
        "\n",
        "  # Convert the JSON file to the standard format.\n",
        "  convert_json_format(file_name)"
      ],
      "outputs": [],
      "execution_count": null,
      "metadata": {
        "id": "6RUjJ4tgWzbv"
      }
    },
    {
      "cell_type": "markdown",
      "source": [
        "This script will read the JSON file `pos_0.png.json` and convert it to the standard format `formatted_pos_0.png.json`. The `object` attribute in the standard format will be set to the value of the `class` attribute if it is present, or to the value of the `license_plate` attribute if it is present, or to the value of the `filename` attribute if neither the `class` nor the `license_plate` attributes are present."
      ],
      "metadata": {
        "id": "SCJgE3GoWzbx"
      }
    }
  ],
  "metadata": {
    "colab": {
      "provenance": [],
      "include_colab_link": true
    },
    "kernelspec": {
      "display_name": "Python 3",
      "name": "python3"
    }
  },
  "nbformat": 4,
  "nbformat_minor": 0
}