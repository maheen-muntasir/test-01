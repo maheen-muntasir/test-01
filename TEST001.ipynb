{
  "nbformat": 4,
  "nbformat_minor": 0,
  "metadata": {
    "colab": {
      "private_outputs": true,
      "provenance": [],
      "authorship_tag": "ABX9TyPzF9UqvPP55cGKdAeCZb20",
      "include_colab_link": true
    },
    "kernelspec": {
      "name": "python3",
      "display_name": "Python 3"
    },
    "language_info": {
      "name": "python"
    }
  },
  "cells": [
    {
      "cell_type": "markdown",
      "metadata": {
        "id": "view-in-github",
        "colab_type": "text"
      },
      "source": [
        "<a href=\"https://colab.research.google.com/github/maheen-muntasir/test-01/blob/main/TEST001.ipynb\" target=\"_parent\"><img src=\"https://colab.research.google.com/assets/colab-badge.svg\" alt=\"Open In Colab\"/></a>"
      ]
    },
    {
      "cell_type": "code",
      "execution_count": null,
      "metadata": {
        "id": "ETtN5urM3onX"
      },
      "outputs": [],
      "source": [
        "import json\n",
        "\n",
        "def read_json_file(file_name):\n",
        "  with open(file_name, \"r\") as f:\n",
        "    data = json.load(f)\n",
        "  return data\n",
        "\n",
        "def write_json_file(file_name, data):\n",
        "  with open(file_name, \"w\") as f:\n",
        "    json.dump(data, f, indent=4)\n",
        "\n",
        "def convert_json_format(file_name):\n",
        "  data = read_json_file(file_name)\n",
        "\n",
        "  # Check if the \"class\" attribute is present in the JSON data.\n",
        "  if \"class\" in data:\n",
        "    # If the \"class\" attribute is present, then set the \"object\" attribute to the value of the \"class\" attribute.\n",
        "    data[\"object\"] = data[\"class\"]\n",
        "\n",
        "  # Check if the \"license_plate\" attribute is present in the JSON data.\n",
        "  if \"license_plate\" in data:\n",
        "    # If the \"license_plate\" attribute is present, then set the \"object\" attribute to the value of the \"license_plate\" attribute.\n",
        "    data[\"object\"] = data[\"license_plate\"]\n",
        "\n",
        "  # If neither the \"class\" nor the \"license_plate\" attributes are present, then set the \"object\" attribute to the value of the \"filename\" attribute.\n",
        "  if not \"class\" in data and not \"license_plate\" in data:\n",
        "    data[\"object\"] = data[\"filename\"]\n",
        "\n",
        "  # Write the JSON data to a new file.\n",
        "  write_json_file(f\"formatted_{file_name}\", data)\n",
        "\n",
        "if __name__ == \"__main__\":\n",
        "  # Get the name of the JSON file to read.\n",
        "  file_name = input(\"Enter the name of the JSON file to read: \")\n",
        "\n",
        "  # Convert the JSON file to the standard format.\n",
        "  convert_json_format(file_name)"
      ]
    },
    {
      "cell_type": "code",
      "source": [
        "Enter the name of the JSON file to read: pos_0.png.json\n",
        "\n",
        "{\n",
        "  \"object\": \"vehicle\"\n",
        "}"
      ],
      "metadata": {
        "id": "KwpTHfMg4AdH"
      },
      "execution_count": null,
      "outputs": []
    },
    {
      "cell_type": "code",
      "source": [
        "Enter the name of the JSON file to read: pos_10492.png.json\n",
        "\n",
        "{\n",
        "  \"object\": \"pos_10492.png\"\n",
        "}"
      ],
      "metadata": {
        "id": "JuWIH95B4Io9"
      },
      "execution_count": null,
      "outputs": []
    },
    {
      "cell_type": "code",
      "source": [
        "HERE IS THE NO. 02"
      ],
      "metadata": {
        "id": "IONELeQd4Wu1"
      },
      "execution_count": null,
      "outputs": []
    },
    {
      "cell_type": "code",
      "source": [
        "import json\n",
        "\n",
        "def read_json_file(file_name):\n",
        "  with open(file_name, \"r\") as f:\n",
        "    data = json.load(f)\n",
        "  return data\n",
        "\n",
        "def write_json_file(file_name, data):\n",
        "  with open(file_name, \"w\") as f:\n",
        "    json.dump(data, f, indent=4)\n",
        "\n",
        "def convert_json_format(file_name):\n",
        "  data = read_json_file(file_name)\n",
        "\n",
        "  # Check if the \"class\" attribute is present in the JSON data.\n",
        "  if \"class\" in data:\n",
        "    # If the \"class\" attribute is present, then set the \"object\" attribute to the value of the \"class\" attribute.\n",
        "    data[\"object\"] = data[\"class\"].replace(\"vehicle\", \"car\").replace(\"license plate\", \"number\")\n",
        "\n",
        "  # Check if the \"license_plate\" attribute is present in the JSON data.\n",
        "  if \"license_plate\" in data:\n",
        "    # If the \"license_plate\" attribute is present, then set the \"object\" attribute to the value of the \"license_plate\" attribute.\n",
        "    data[\"object\"] = data[\"license_plate\"].replace(\"license plate\", \"number\")\n",
        "\n",
        "  # If neither the \"class\" nor the \"license_plate\" attributes are present, then set the \"object\" attribute to the value of the \"filename\" attribute.\n",
        "  if not \"class\" in data and not \"license_plate\" in data:\n",
        "    data[\"object\"] = data[\"filename\"]\n",
        "\n",
        "  # Write the JSON data to a new file.\n",
        "  write_json_file(f\"formatted_{file_name}\", data)\n",
        "\n",
        "if __name__ == \"__main__\":\n",
        "  # Get the name of the folder containing the JSON files.\n",
        "  folder_name = input(\"Enter the name of the folder containing the JSON files: \")\n",
        "\n",
        "  # Get the list of JSON files in the folder.\n",
        "  json_files = [f for f in os.listdir(folder_name) if f.endswith(\".json\")]\n",
        "\n",
        "  # Combine the JSON files into a single JSON file.\n",
        "  combined_json = {}\n",
        "  for json_file in json_files:\n",
        "    data = read_json_file(f\"{folder_name}/{json_file}\")\n",
        "    combined_json[data[\"object\"]] = data\n",
        "\n",
        "  # Write the combined JSON file to a new file.\n",
        "  write_json_file(f\"formatted_{folder_name}.json\", combined_json)\n",
        "\n",
        "  Enter the name of the folder containing the JSON files: ./\n",
        "\n",
        "{\n",
        "  \"car\": {\n",
        "    \"filename\": \"Pos_0.png\",\n",
        "    \"license_plate\": \"ABC123\"\n",
        "  },\n",
        "  \"car\": {\n",
        "    \"filename\": \"Pos_10010.png\",\n",
        "    \"license_plate\": \"XYZ789\"\n",
        "  },\n",
        "  \"car\": {\n",
        "    \"filename\": \"Pos_10492.png\",\n",
        "    \"license_plate\": \"MNO456\"\n",
        "  }\n",
        "}"
      ],
      "metadata": {
        "id": "TeCFT5Hq4b1X"
      },
      "execution_count": null,
      "outputs": []
    },
    {
      "cell_type": "code",
      "source": [],
      "metadata": {
        "id": "JhnXIBCQ40AP"
      },
      "execution_count": null,
      "outputs": []
    }
  ]
}